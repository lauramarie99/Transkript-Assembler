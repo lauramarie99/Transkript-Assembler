{
 "cells": [
  {
   "cell_type": "code",
   "execution_count": null,
   "metadata": {},
   "outputs": [],
   "source": [
    "#!/usr/bin/env python\n",
    "\n",
    "import sys, ast, os\n",
    "import networkx as nx\n",
    "from collections import namedtuple\n",
    "from parse_graph_list_commented_Arbeitsdatei import nodepath_to_transcript\n",
    "\n",
    "def getBins(Bins:list):\n",
    "    binList = []\n",
    "    for bin in Bins:\n",
    "        binList.append(bin[0])\n",
    "    return binList\n",
    "\n",
    "def fromPairedBinsToBins(pairedBins, Bins, graph, Exons:list):\n",
    "    BinT = namedtuple('BinT', 'exons count')\n",
    "    binList = getBins(Bins)\n",
    "    print(Bins)\n",
    "    for bin in pairedBins: \n",
    "        print(bin)\n",
    "        last_left_exon = bin[0][len(bin[0])-1]\n",
    "        first_right_exon = bin[1][0]\n",
    "        leftExonIds = []\n",
    "        rightExonIds  =[]\n",
    "        if first_right_exon >= last_left_exon:\n",
    "            print(last_left_exon, first_right_exon)\n",
    "            for i in range (0, len(bin[0])-1):                \n",
    "                leftExonIds.append(bin[0][i])\n",
    "            for j in range (1, len(bin[1])):\n",
    "                rightExonIds.append(bin[1][j])\n",
    "            startNodeLastLeftExon = last_left_exon + 2\n",
    "            endNodeFirstRightExon = len(Exons)*2+1-first_right_exon \n",
    "            full_path_dict = PairedBinToBinEnumeration(str(startNodeLastLeftExon), str(endNodeFirstRightExon), [last_left_exon], {}, [0], graph)\n",
    "            if full_path_dict != None:\n",
    "                for key, value in full_path_dict.items():\n",
    "                    newBin = []\n",
    "                    newBin.append(leftExonIds)\n",
    "                    newBin.append(value)\n",
    "                    newBin.append(rightExonIds)\n",
    "                    Bins.append(BinT(exons=newBin, count={}))\n",
    "    return Bins\n",
    "            \n",
    "def PairedBinToBinEnumeration (v:str, endNode:str, pfad:list, allpaths:dict, path_number:list, graph):  \n",
    "    if v == endNode:\n",
    "        allpaths[path_number[0]] = nodepath_to_transcript(graph, pfad)\n",
    "        path_number[0] = path_number[0] + 1\n",
    "        return\n",
    "    else:\n",
    "        if int (v) > int(endNode) or v=='1':\n",
    "            return\n",
    "        for u in graph.adj[str(v)].keys():\n",
    "            PairedBinToBinEnumeration(u, str(endNode), pfad+[u], allpaths, path_number, graph)\n",
    "    return allpaths\n"
   ]
  }
 ],
 "metadata": {
  "interpreter": {
   "hash": "31848095eba7989a684b10cb208c018790ea1a5b15d11c8d6c10ed7fd9c1b69a"
  },
  "kernelspec": {
   "display_name": "Python 3.9.12 ('TranscriptReconstruction')",
   "language": "python",
   "name": "python3"
  },
  "language_info": {
   "name": "python",
   "version": "3.9.12"
  },
  "orig_nbformat": 4
 },
 "nbformat": 4,
 "nbformat_minor": 2
}
