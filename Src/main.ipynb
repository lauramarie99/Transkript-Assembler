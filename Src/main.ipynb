{
 "cells": [
  {
   "cell_type": "code",
   "execution_count": 2,
   "metadata": {},
   "outputs": [
    {
     "name": "stdout",
     "output_type": "stream",
     "text": [
      "88336\n"
     ]
    }
   ],
   "source": [
    "import sys, ast, os\n",
    "import networkx as nx\n",
    "from collections import namedtuple\n",
    "from PathEnumeration import fullPathEnumeration, activeBinPathEnumeration, activeBinPathEnumeration2, activeBinPathEnumeration3, getMultiBins\n",
    "from PathEnumeration_old import activeMultiBinPathEnumeration\n",
    "from PairedBinsToBins import fromPairedBinsToBins, checkPairedBins\n",
    "from parse_graph_list_commented_Arbeitsdatei import parse_meta, parse_bins, parse_pairs, parse_graph, write_valid_gtf_entry, nodepath_to_transcript\n",
    "\n",
    "dummyf = open(\"dummyout.gtf\", \"w\")                                                                                              # output for the dummy code\n",
    "dummyGeneCounter = 0\n",
    "\n",
    "with open('human_geuvadis_simulated_5sets.graph') as f:\n",
    "    fileEndReached = False\n",
    "    f.readline()                                                                                                     #skip ---- seperator line\n",
    "    global_path_dict = {}\n",
    "    #global_path_dict_multi = {}\n",
    "    global_path_dict_full = {}\n",
    "    gene_counter=0\n",
    "    anzahlPfade = 0\n",
    "    #anzahlPfade_multi=0                                                                                                   \n",
    "    #anzahlPfade_full=0\n",
    "    while not fileEndReached:\n",
    "        f.readline()                                                                                                # skip ==META: Read this line, but don't do anything\n",
    "        Chromosome, Strand, Exons = parse_meta(f)                                                                   # Übergib f jetzt an def parse_meta, um Metadaten auszulesen und schreib diese in Chromosome, \n",
    "                                                                                                                    # Strand und Exons (Listen)\n",
    "        Bins = parse_bins(f)                                                                                        # Lies die BINS aus f mit Hilfe der parse_bin(f) Funktion aus und schreib sie in Bins\n",
    "        PairedBins = parse_pairs(f)\n",
    "        \n",
    "        G_full = nx.DiGraph()                                                                                       # Erzeug einen Diagraphen mit Hilfe von NetworkX\n",
    "        fileEndReached, skip = parse_graph(f, G_full, Exons)                                                        # Ruf die Funktion parse_graph auf, übergibt ihr das File (f, den erzeugten Graphen und zugehörige Liste \n",
    "                                                                                                                    # mit den Exons), schreib den vollen Graphen in G_full, weise Skip einen Boolean zu, der true ist, wenn \n",
    "                                                                                                                    # die Zeile mit - beginnt                                                                                                                                                                                                      \n",
    "        if not fileEndReached and not skip:                                                                         # Falls denoised Graph existiert, ruf wieder die Funktion Parse_Graph auf, übergib ihr das File \n",
    "                                                                                                                    # (f, Graph_clean und zugehörige Liste mit den Exons), schreib die # denoised Informationen aus dem \n",
    "                                                                                                                    # Graph-File in graph clean und übergib die letzte Zeile fileEndReached\n",
    "            G_clean = nx.DiGraph()                                                                                  # Erzeug einen neuen gerichteten Graphen \n",
    "            fileEndReached, _ = parse_graph(f, G_clean, Exons)\n",
    "\n",
    "        local_path_dict = {}\n",
    "        #local_path_dict_multi={}\n",
    "        #local_path_dict_full = {}\n",
    "        pfad = ['0']\n",
    "        #pfad_multi = ['0']\n",
    "        pfad_full = ['0']\n",
    "        path_number = [0]\n",
    "        #path_number_multi = [0]\n",
    "        #path_number_full = [0]\n",
    "        zaehler = [0]\n",
    "        MultiBins = getMultiBins(Bins)\n",
    "        MultiBins, newMultiBins = fromPairedBinsToBins (PairedBins, MultiBins, G_clean, Exons)\n",
    "        #Bins = fromPairedBinsToBins (PairedBins, Bins, G_clean, Exons)\n",
    "        #incorrectPairedBins = checkPairedBins(PairedBins)\n",
    "        #Bins, newMultiBins = fromPairedBinsToBins (PairedBins, Bins, G_clean, Exons)\n",
    "        #global_path_dict['Gene' + str(gene_counter)] = activeBinPathEnumeration3('0', pfad, local_path_dict, path_number, [], G_full, Bins)\n",
    "        global_path_dict['Gene' + str(gene_counter)] = activeBinPathEnumeration3('0', pfad, local_path_dict, path_number, [], G_clean, MultiBins)        \n",
    "        #global_path_dict_multi['Gene' + str(gene_counter)] = activeMultiBinPathEnumeration('0', pfad_multi, local_path_dict_multi, path_number_multi, MultiBins, G_clean, MultiBins)\n",
    "        #global_path_dict_full['Gene' + str(gene_counter)] = fullPathEnumeration('0', pfad_full, local_path_dict_full, path_number_full, G_full)\n",
    "        gene_counter = gene_counter + 1\n",
    "        anzahlPfade = anzahlPfade + path_number[0]\n",
    "        #anzahlPfade_full = anzahlPfade_full + path_number_full[0]\n",
    "        #anzahlPfade_multi = anzahlPfade_multi + path_number_multi[0]\n",
    "        # All Paths Enumeration\n",
    "\n",
    "        # Note: source and drain are ALWAYS named \"0\" and \"1\" respectively\n",
    "\n",
    "        #if skip:\n",
    "            # handle the rare case that noise deletion removes the whole second graph\n",
    "        \n",
    "\n",
    "        # TODO WORK WITH THE GRAPH HERE\n",
    "        #Access Edge Types : G.edges[n1 , n2]['type'] == \"Exon\" || \"SpliceJunction\" || \"Helper\"\n",
    "        #Access Main Coverage Count of an Edge : G.edges[n1 , n2]['counts']['c']\n",
    "        #Access Exon length G.edges[n1 , n2]['length']\n",
    "        \n",
    "        #Source Node s is always G.nodes['0']\n",
    "        #Drain Node t is always G.nodes['1']\n",
    "        \n",
    "        # DUMMY Code extracts longest Path (by number of bases) and writes it to a GTF file\n",
    "        \n",
    "\n",
    "        lpath = nx.dag_longest_path(G_full, weight=\"length\")\n",
    "        transcript = nodepath_to_transcript(G_full, lpath)\n",
    "        write_valid_gtf_entry(dummyf, Chromosome, Strand, Exons, transcript, \"Gene\"+str(dummyGeneCounter), \"Transcript\"+str(dummyGeneCounter)+\".1\")\n",
    "        dummyGeneCounter = dummyGeneCounter + 1\n",
    "\n",
    "dummyf.close()\n",
    "print(anzahlPfade)"
   ]
  },
  {
   "cell_type": "code",
   "execution_count": null,
   "metadata": {},
   "outputs": [],
   "source": []
  }
 ],
 "metadata": {
  "interpreter": {
   "hash": "31848095eba7989a684b10cb208c018790ea1a5b15d11c8d6c10ed7fd9c1b69a"
  },
  "kernelspec": {
   "display_name": "Python 3.9.12 ('TranscriptReconstruction')",
   "language": "python",
   "name": "python3"
  },
  "language_info": {
   "codemirror_mode": {
    "name": "ipython",
    "version": 3
   },
   "file_extension": ".py",
   "mimetype": "text/x-python",
   "name": "python",
   "nbconvert_exporter": "python",
   "pygments_lexer": "ipython3",
   "version": "3.9.12"
  },
  "orig_nbformat": 4
 },
 "nbformat": 4,
 "nbformat_minor": 2
}
