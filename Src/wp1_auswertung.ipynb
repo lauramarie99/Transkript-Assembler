{
 "cells": [
  {
   "cell_type": "code",
   "execution_count": 52,
   "metadata": {},
   "outputs": [],
   "source": [
    "# Packages\n",
    "import pandas as pd\n",
    "import matplotlib.pyplot as plt\n",
    "import seaborn as sns"
   ]
  },
  {
   "cell_type": "code",
   "execution_count": 54,
   "metadata": {},
   "outputs": [
    {
     "name": "stdout",
     "output_type": "stream",
     "text": [
      "      seqname         source     feature   start     end  score strand frame  \\\n",
      "0  GL000008.2  FortgMethoden  transcript  179629  181352      0      -     .   \n",
      "1  GL000008.2  FortgMethoden        exon  179629  179806      0      -     .   \n",
      "2  GL000008.2  FortgMethoden        exon  181193  181352      0      -     .   \n",
      "3  GL000194.1  FortgMethoden  transcript   53590   55310      0      -     .   \n",
      "4  GL000194.1  FortgMethoden        exon   53590   55310      0      -     .   \n",
      "5  GL000194.1  FortgMethoden  transcript   53590  115051      0      -     .   \n",
      "6  GL000194.1  FortgMethoden        exon   53590   54832      0      -     .   \n",
      "7  GL000194.1  FortgMethoden        exon   55446   55676      0      -     .   \n",
      "8  GL000194.1  FortgMethoden        exon  112792  112850      0      -     .   \n",
      "9  GL000194.1  FortgMethoden        exon  114986  115051      0      -     .   \n",
      "\n",
      "                                       attribute  \n",
      "0  gene_id \"Gene0\"; transcript_id \"Transcript0\";  \n",
      "1  gene_id \"Gene0\"; transcript_id \"Transcript0\";  \n",
      "2  gene_id \"Gene0\"; transcript_id \"Transcript0\";  \n",
      "3  gene_id \"Gene1\"; transcript_id \"Transcript0\";  \n",
      "4  gene_id \"Gene1\"; transcript_id \"Transcript0\";  \n",
      "5  gene_id \"Gene1\"; transcript_id \"Transcript1\";  \n",
      "6  gene_id \"Gene1\"; transcript_id \"Transcript1\";  \n",
      "7  gene_id \"Gene1\"; transcript_id \"Transcript1\";  \n",
      "8  gene_id \"Gene1\"; transcript_id \"Transcript1\";  \n",
      "9  gene_id \"Gene1\"; transcript_id \"Transcript1\";  \n",
      "      seqname         source     feature   start     end  score strand frame  \\\n",
      "0  GL000008.2  FortgMethoden  transcript  179629  181352      0      -     .   \n",
      "1  GL000008.2  FortgMethoden        exon  179629  179806      0      -     .   \n",
      "2  GL000008.2  FortgMethoden        exon  181193  181352      0      -     .   \n",
      "3  GL000194.1  FortgMethoden  transcript   53590   55310      0      -     .   \n",
      "4  GL000194.1  FortgMethoden        exon   53590   55310      0      -     .   \n",
      "5  GL000194.1  FortgMethoden  transcript   53590  115051      0      -     .   \n",
      "6  GL000194.1  FortgMethoden        exon   53590   54832      0      -     .   \n",
      "7  GL000194.1  FortgMethoden        exon   55446   55676      0      -     .   \n",
      "8  GL000194.1  FortgMethoden        exon  112792  112850      0      -     .   \n",
      "9  GL000194.1  FortgMethoden        exon  114986  115051      0      -     .   \n",
      "\n",
      "                                       attribute  \n",
      "0  gene_id \"Gene0\"; transcript_id \"Transcript0\";  \n",
      "1  gene_id \"Gene0\"; transcript_id \"Transcript0\";  \n",
      "2  gene_id \"Gene0\"; transcript_id \"Transcript0\";  \n",
      "3  gene_id \"Gene1\"; transcript_id \"Transcript0\";  \n",
      "4  gene_id \"Gene1\"; transcript_id \"Transcript0\";  \n",
      "5  gene_id \"Gene1\"; transcript_id \"Transcript1\";  \n",
      "6  gene_id \"Gene1\"; transcript_id \"Transcript1\";  \n",
      "7  gene_id \"Gene1\"; transcript_id \"Transcript1\";  \n",
      "8  gene_id \"Gene1\"; transcript_id \"Transcript1\";  \n",
      "9  gene_id \"Gene1\"; transcript_id \"Transcript1\";  \n"
     ]
    }
   ],
   "source": [
    "# Input data\n",
    "data = {\"full\":\"transcripts_full_wp1.gtf\", \"multi\":\"transcripts_multi_wp1.gtf\"}\n",
    "df_dict = {}\n",
    "for id, file in data.items():\n",
    "    df = pd.DataFrame()\n",
    "    df = pd.read_csv(file, sep=\"\\t\", names=[\"seqname\",\"source\",\"feature\",\"start\",\"end\",\"score\",\"strand\",\"frame\",\"attribute\"])\n",
    "    df_dict[id] = df\n",
    "    print(df.head(10))"
   ]
  },
  {
   "cell_type": "code",
   "execution_count": 85,
   "metadata": {},
   "outputs": [
    {
     "name": "stdout",
     "output_type": "stream",
     "text": [
      "97597\n",
      "82831\n"
     ]
    },
    {
     "data": {
      "image/png": "[encoded data removed]",
      "text/plain": [
       "<Figure size 432x288 with 2 Axes>"
      ]
     },
     "metadata": {
      "needs_background": "light"
     },
     "output_type": "display_data"
    }
   ],
   "source": [
    "# Transcripts per gene\n",
    "fig, axs = plt.subplots(1, len(df_dict), sharex=True)\n",
    "count = 0\n",
    "for id, frame in df_dict.items():\n",
    "    df_transcripts = pd.DataFrame()\n",
    "    df_transcripts = frame[frame[\"feature\"] == \"transcript\"]\n",
    "    print(df_transcripts.shape[0])\n",
    "    no_trans_per_gene = []\n",
    "    gene = 0\n",
    "    transcripts = 0\n",
    "    for index, line in df_transcripts.iterrows():\n",
    "        current_gene = line[\"attribute\"].split(\";\")[0][13:-1]\n",
    "        if current_gene == str(gene):\n",
    "            transcripts += 1\n",
    "        else:\n",
    "            gene = current_gene\n",
    "            no_trans_per_gene.append(transcripts)\n",
    "            transcripts = 1\n",
    "    no_trans_per_gene.append(transcripts)\n",
    "    no_genes = len(no_trans_per_gene)\n",
    "    df_vis = pd.DataFrame.from_dict({\"Gene\": list(range(no_genes)), \"Number of transcripts\": no_trans_per_gene})\n",
    "    sns.violinplot(ax=axs[count], x=df_vis[\"Number of transcripts\"])\n",
    "    #sns.violinplot(ax=axs[count], x=df_vis[df_vis[\"Number of transcripts\"] > 100][\"Number of transcripts\"])\n",
    "    axs[count].set_title(id, fontsize=10)\n",
    "    #sns.boxplot(ax=axs[count], x=df_vis[\"Number of transcripts\"])\n",
    "    #axs[count].boxplot(x=df_vis[\"Number of transcripts\"], labels=[id])\n",
    "    count += 1\n"
   ]
  }
 ],
 "metadata": {
  "kernelspec": {
   "display_name": "Python 3.9.7 ('base')",
   "language": "python",
   "name": "python3"
  },
  "language_info": {
   "codemirror_mode": {
    "name": "ipython",
    "version": 3
   },
   "file_extension": ".py",
   "mimetype": "text/x-python",
   "name": "python",
   "nbconvert_exporter": "python",
   "pygments_lexer": "ipython3",
   "version": "3.9.7"
  },
  "orig_nbformat": 4,
  "vscode": {
   "interpreter": {
    "hash": "d130ca42b532f14c740c9405384e6a25814bad609bad1a40b3b3f26954036080"
   }
  }
 },
 "nbformat": 4,
 "nbformat_minor": 2
}
