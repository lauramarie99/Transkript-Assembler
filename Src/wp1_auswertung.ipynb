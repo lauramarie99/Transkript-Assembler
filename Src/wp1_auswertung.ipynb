{
 "cells": [
  {
   "cell_type": "markdown",
   "metadata": {},
   "source": [
    "# Required packages"
   ]
  },
  {
   "cell_type": "code",
   "execution_count": 10,
   "metadata": {},
   "outputs": [],
   "source": [
    "# Packages\n",
    "import pandas as pd\n",
    "import matplotlib.pyplot as plt\n",
    "import seaborn as sns"
   ]
  },
  {
   "cell_type": "markdown",
   "metadata": {},
   "source": [
    "# Input data"
   ]
  },
  {
   "cell_type": "code",
   "execution_count": 19,
   "metadata": {},
   "outputs": [
    {
     "name": "stdout",
     "output_type": "stream",
     "text": [
      "      seqname         source     feature   start     end  score strand frame  \\\n",
      "0  GL000008.2  FortgMethoden  transcript  179629  181352      0      -     .   \n",
      "1  GL000008.2  FortgMethoden        exon  179629  179806      0      -     .   \n",
      "2  GL000008.2  FortgMethoden        exon  181193  181352      0      -     .   \n",
      "3  GL000194.1  FortgMethoden  transcript   53590   55310      0      -     .   \n",
      "4  GL000194.1  FortgMethoden        exon   53590   55310      0      -     .   \n",
      "\n",
      "                                           attribute  \n",
      "0  gene_id \"Gene0\"; transcript_id \"0.1\";Expressio...  \n",
      "1              gene_id \"Gene0\"; transcript_id \"0.1\";  \n",
      "2              gene_id \"Gene0\"; transcript_id \"0.1\";  \n",
      "3  gene_id \"Gene1\"; transcript_id \"1.1\";Expressio...  \n",
      "4              gene_id \"Gene1\"; transcript_id \"1.1\";  \n",
      "      seqname         source     feature   start     end  score strand frame  \\\n",
      "0  GL000008.2  FortgMethoden  transcript  179629  181352      0      -     .   \n",
      "1  GL000008.2  FortgMethoden        exon  179629  179806      0      -     .   \n",
      "2  GL000008.2  FortgMethoden        exon  181193  181352      0      -     .   \n",
      "3  GL000194.1  FortgMethoden  transcript   53590   55310      0      -     .   \n",
      "4  GL000194.1  FortgMethoden        exon   53590   55310      0      -     .   \n",
      "\n",
      "                                           attribute  \n",
      "0  gene_id \"Gene0\"; transcript_id \"0.1\";Expressio...  \n",
      "1              gene_id \"Gene0\"; transcript_id \"0.1\";  \n",
      "2              gene_id \"Gene0\"; transcript_id \"0.1\";  \n",
      "3  gene_id \"Gene1\"; transcript_id \"1.1\";Expressio...  \n",
      "4              gene_id \"Gene1\"; transcript_id \"1.1\";  \n",
      "      seqname         source     feature   start     end  score strand frame  \\\n",
      "0  GL000008.2  FortgMethoden  transcript  179629  181352      0      -     .   \n",
      "1  GL000008.2  FortgMethoden        exon  179629  179806      0      -     .   \n",
      "2  GL000008.2  FortgMethoden        exon  181193  181352      0      -     .   \n",
      "3  GL000194.1  FortgMethoden  transcript   53590  115051      0      -     .   \n",
      "4  GL000194.1  FortgMethoden        exon   53590   54832      0      -     .   \n",
      "\n",
      "                                           attribute  \n",
      "0  gene_id \"Gene0\"; transcript_id \"0.1\";Expressio...  \n",
      "1              gene_id \"Gene0\"; transcript_id \"0.1\";  \n",
      "2              gene_id \"Gene0\"; transcript_id \"0.1\";  \n",
      "3  gene_id \"Gene1\"; transcript_id \"1.2\";Expressio...  \n",
      "4              gene_id \"Gene1\"; transcript_id \"1.2\";  \n"
     ]
    }
   ],
   "source": [
    "# Input data\n",
    "data = {\n",
    "    \"full\":\"../Results/WP2/human_geuvadis_simulated_5sets/full/norm1/NoConstr/human_geuvadis_simulated_5sets_full_full_norm1_noconstr_transcripts.gtf\", \n",
    "    \"full-norm2\":\"../Results/WP2/human_geuvadis_simulated_5sets/full/norm1/constr0/human_geuvadis_simulated_5sets_full_norm1_constr0__transcripts.gtf\",\n",
    "    \"full-norm2-constr1\":\"human_geuvadis_simulated_5sets_wp2_norm2_constr1_2_5.gtf\"}\n",
    "df_dict = {}\n",
    "for id, file in data.items():\n",
    "    df = pd.DataFrame()\n",
    "    df = pd.read_csv(file, sep=\"\\t\", names=[\"seqname\",\"source\",\"feature\",\"start\",\"end\",\"score\",\"strand\",\"frame\",\"attribute\"])\n",
    "    df_dict[id] = df"
   ]
  },
  {
   "cell_type": "markdown",
   "metadata": {},
   "source": [
    "# Number of transcripts"
   ]
  },
  {
   "cell_type": "code",
   "execution_count": 21,
   "metadata": {},
   "outputs": [
    {
     "name": "stdout",
     "output_type": "stream",
     "text": [
      "full: 40372\n",
      "full-norm2: 35198\n",
      "full-norm2-constr1: 26185\n"
     ]
    }
   ],
   "source": [
    "# Extract Transcript Data\n",
    "transcripts_dict = {}\n",
    "for id, frame in df_dict.items():\n",
    "    df_transcripts = frame[frame[\"feature\"] == \"transcript\"]\n",
    "    print(id + \": \" + str(df_transcripts.shape[0]))\n",
    "    transcripts_dict[id] = df_transcripts"
   ]
  },
  {
   "cell_type": "markdown",
   "metadata": {},
   "source": [
    "# Number of single exon transcripts"
   ]
  },
  {
   "cell_type": "code",
   "execution_count": 40,
   "metadata": {},
   "outputs": [
    {
     "name": "stdout",
     "output_type": "stream",
     "text": [
      "full: 216\n",
      "full-norm2: 200\n",
      "full-norm2-constr1: 110\n"
     ]
    }
   ],
   "source": [
    "for id, frame in df_dict.items():\n",
    "    count_single_exons = 0\n",
    "    bool1 = False\n",
    "    bool2 = False\n",
    "    for index, line in frame.iterrows():\n",
    "        if line[\"feature\"] == \"exon\" and bool1 == True:\n",
    "            bool2 = True\n",
    "            bool1 = False\n",
    "        elif line[\"feature\"] == \"transcript\" and bool2 == True:\n",
    "            count_single_exons += 1\n",
    "            bool2 = False\n",
    "            bool1 = False\n",
    "        elif line[\"feature\"] == \"transcript\":\n",
    "            bool1 = True\n",
    "        else:\n",
    "            bool2 = False\n",
    "    if bool2 == True:\n",
    "        count_single_exons += 1\n",
    "\n",
    "    print(id + \": \" + str(count_single_exons))"
   ]
  },
  {
   "cell_type": "markdown",
   "metadata": {},
   "source": [
    "# Number of transcripts per gene"
   ]
  },
  {
   "cell_type": "code",
   "execution_count": 15,
   "metadata": {},
   "outputs": [
    {
     "data": {
      "image/png": "[encoded data removed]",
      "text/plain": [
       "<Figure size 640x480 with 3 Axes>"
      ]
     },
     "metadata": {},
     "output_type": "display_data"
    }
   ],
   "source": [
    "# Transcripts per gene\n",
    "fig, axs = plt.subplots(1, len(df_dict), sharey=True)\n",
    "count = 0\n",
    "for id, frame in transcripts_dict.items():\n",
    "    no_trans_per_gene = []\n",
    "    gene = 0\n",
    "    transcripts = 0\n",
    "    for index, line in frame.iterrows():\n",
    "        current_gene = line[\"attribute\"].split(\";\")[0][13:-1]\n",
    "        if current_gene == str(gene):\n",
    "            transcripts += 1\n",
    "        else:\n",
    "            gene = current_gene\n",
    "            no_trans_per_gene.append(transcripts)\n",
    "            transcripts = 1\n",
    "    no_trans_per_gene.append(transcripts)\n",
    "    no_genes = len(no_trans_per_gene)\n",
    "    df_vis = pd.DataFrame.from_dict({\"Gene\": list(range(no_genes)), \"Number of transcripts\": no_trans_per_gene})\n",
    "    #sns.violinplot(ax=axs[count], x=df_vis[\"Number of transcripts\"])\n",
    "    #sns.violinplot(ax=axs[count], x=df_vis[df_vis[\"Number of transcripts\"] < 50][df_vis[\"Number of transcripts\"] > 2][\"Number of transcripts\"])\n",
    "    axs[count].set_title(id, fontsize=10)\n",
    "    #sns.boxplot(ax=axs[count], x=df_vis[\"Number of transcripts\"])\n",
    "    axs[count].boxplot(x=df_vis[\"Number of transcripts\"], labels=[id])\n",
    "    #axs[count].set_yscale('log')\n",
    "    count += 1\n",
    "#axs[0].set_ylim(-1,500)\n"
   ]
  },
  {
   "cell_type": "markdown",
   "metadata": {},
   "source": [
    "# Number of Exons"
   ]
  },
  {
   "cell_type": "code",
   "execution_count": 31,
   "metadata": {},
   "outputs": [
    {
     "name": "stdout",
     "output_type": "stream",
     "text": [
      "full: 357223\n",
      "full-norm2: 309756\n",
      "full-norm2-constr1: 221395\n"
     ]
    }
   ],
   "source": [
    "# Extract Transcript Data\n",
    "exons_dict = {}\n",
    "for id, frame in df_dict.items():\n",
    "    df_exons = frame[frame[\"feature\"] == \"exon\"]\n",
    "    print(id + \": \" + str(df_exons.shape[0]))\n",
    "    df_exons.reset_index(drop=True, inplace=True)\n",
    "    exons_dict[id] = df_exons"
   ]
  },
  {
   "cell_type": "markdown",
   "metadata": {},
   "source": [
    "# Number of exons per transcript"
   ]
  },
  {
   "cell_type": "code",
   "execution_count": 41,
   "metadata": {},
   "outputs": [
    {
     "name": "stdout",
     "output_type": "stream",
     "text": [
      "Yes\n",
      "full: 40372\n",
      "217\n",
      "Yes\n",
      "full-norm2: 35198\n",
      "201\n",
      "Yes\n",
      "full-norm2-constr1: 26185\n",
      "110\n"
     ]
    }
   ],
   "source": [
    "# Save the number of exons per transcript in a dataframe for each file\n",
    "exons_dict2 = {}\n",
    "for id, frame in exons_dict.items():\n",
    "    single_exon_trans = 0\n",
    "    no_exons_per_transcript = []\n",
    "    \n",
    "    for index, line in frame.iterrows():\n",
    "        current_transcript = line[\"attribute\"].split(\";\")[1][18:-1]\n",
    "        current_gene = line[\"attribute\"].split(\";\")[0][13:-1]\n",
    "        if index == 0:\n",
    "            transcript = current_transcript\n",
    "            gene = current_gene\n",
    "            exons = 1\n",
    "        elif current_transcript == str(transcript) and current_gene == str(gene):\n",
    "            exons += 1\n",
    "        else:\n",
    "            transcript = current_transcript\n",
    "            gene = current_gene\n",
    "            no_exons_per_transcript.append(exons)\n",
    "            if exons == 1:\n",
    "                count += 1\n",
    "            exons = 1\n",
    "    no_exons_per_transcript.append(exons)\n",
    "    if exons == 1:\n",
    "        count += 1\n",
    "    no_transcripts = len(no_exons_per_transcript)\n",
    "    #print(gene)\n",
    "    #print(transcript)\n",
    "    print(id + \": \" + str(no_transcripts))\n",
    "    print(id + \": \" + str(single_exon_trans))\n",
    "    df_vis2 = pd.DataFrame.from_dict({\"Transcript\": list(range(no_transcripts)), \"Number of exons\": no_exons_per_transcript})\n",
    "    exons_dict2[id] = df_vis2"
   ]
  },
  {
   "cell_type": "code",
   "execution_count": 39,
   "metadata": {},
   "outputs": [
    {
     "data": {
      "image/png": "[encoded data removed]",
      "text/plain": [
       "<Figure size 640x480 with 3 Axes>"
      ]
     },
     "metadata": {},
     "output_type": "display_data"
    }
   ],
   "source": [
    "# Visualisation\n",
    "fig, axs = plt.subplots(1, len(df_dict), sharey=True)\n",
    "count = 0\n",
    "for id, frame in exons_dict2.items():\n",
    "    #sns.violinplot(ax=axs[count], x=df_vis[\"Number of exons\"])\n",
    "    #sns.violinplot(ax=axs[count], x=df_vis[df_vis[\"Number of exons\"] < 50][df_vis[\"Number of exons\"] > 2][\"Number of exons\"])\n",
    "    axs[count].set_title(id, fontsize=10)\n",
    "    #sns.boxplot(ax=axs[count], x=df_vis[\"Number of exons\"])\n",
    "    axs[count].boxplot(x=frame[\"Number of exons\"], labels=[id])\n",
    "    count += 1"
   ]
  }
 ],
 "metadata": {
  "kernelspec": {
   "display_name": "Python 3.7.13 ('vis')",
   "language": "python",
   "name": "python3"
  },
  "language_info": {
   "codemirror_mode": {
    "name": "ipython",
    "version": 3
   },
   "file_extension": ".py",
   "mimetype": "text/x-python",
   "name": "python",
   "nbconvert_exporter": "python",
   "pygments_lexer": "ipython3",
   "version": "3.7.13"
  },
  "orig_nbformat": 4,
  "vscode": {
   "interpreter": {
    "hash": "89b195bbcb7b13027aa95b38a2cb4ce88d984f5a91555991447597a3d73150c6"
   }
  }
 },
 "nbformat": 4,
 "nbformat_minor": 2
}
