{
 "cells": [
  {
   "cell_type": "code",
   "execution_count": 242,
   "metadata": {},
   "outputs": [],
   "source": [
    "# Import packages\n",
    "import gurobipy as gp\n",
    "from gurobipy import GRB\n",
    "import parse_graph_new\n",
    "import networkx as nx\n",
    "import path_enumeration\n",
    "import math"
   ]
  },
  {
   "cell_type": "code",
   "execution_count": 243,
   "metadata": {},
   "outputs": [],
   "source": [
    "# Variablen (sollen der Funktion übergeben werden)\n",
    "norm = \"L1\"\n",
    "sparsity_constr = \"L0\"\n",
    "factor = 10000"
   ]
  },
  {
   "cell_type": "code",
   "execution_count": 244,
   "metadata": {},
   "outputs": [
    {
     "name": "stdout",
     "output_type": "stream",
     "text": [
      "Transkripts: 2 [['0', '2', '19', '3', '18', '4', '17', '5', '16', '1'], ['0', '2', '19', '3', '18', '4', '17', '7', '14', '9', '12', '10', '11', '1']]\n"
     ]
    }
   ],
   "source": [
    "# Read file and extract all paths\n",
    "with open(\"/home/laura/Documents/Transkript_Assembly/data/human_geuvadis/test2.graph\") as f: \n",
    "    fileEndReached = False\n",
    "    f.readline()\n",
    "    while not fileEndReached:\n",
    "        f.readline()\n",
    "        Chromosome, Strand, Exons = parse_graph_new.parse_meta(f)\n",
    "        Bins = parse_graph_new.parse_bins(f)\n",
    "        PairedBins = parse_graph_new.parse_pairs(f)\n",
    "        \n",
    "        # Build graphs\n",
    "        G_full = nx.DiGraph()\n",
    "        fileEndReached, skip = parse_graph_new.parse_graph(f, G_full, Exons) # Full Graph\n",
    "        \n",
    "        if not fileEndReached and not skip:\n",
    "            G_clean = nx.DiGraph()  \n",
    "            fileEndReached, _ = parse_graph_new.parse_graph(f, G_clean, Exons) # Cleaned Graph\n",
    "            \n",
    "        # Full path enumeration of cleaned graph\n",
    "        transcripts = path_enumeration.enumeration(G_clean,[],\"0\",[\"0\"],\"1\",False)\n",
    "        print(\"Transkripts:\", len(transcripts), transcripts)\n",
    "\n",
    "f.close()"
   ]
  },
  {
   "cell_type": "code",
   "execution_count": 245,
   "metadata": {},
   "outputs": [
    {
     "name": "stdout",
     "output_type": "stream",
     "text": [
      "{('19', '3'): 174, ('3', '18'): 216, ('18', '4'): 163, ('4', '17'): 227, ('17', '5'): 49, ('17', '7'): 129, ('5', '16'): 89, ('7', '14'): 146, ('14', '9'): 28, ('9', '12'): 53, ('12', '10'): 53, ('10', '11'): 53, ('2', '19'): 211}\n",
      "13\n"
     ]
    }
   ],
   "source": [
    "# Create edge dictionary storing the counts for each edge\n",
    "edges_dict = {}\n",
    "for edgeKey, edgeValue in G_clean.edges.items():\n",
    "    count = edgeValue[\"counts\"][\"c\"]\n",
    "    if edgeValue[\"type\"] == \"SpliceJunction\" or edgeValue[\"type\"] == \"Exon\":\n",
    "        edges_dict[edgeKey] = count\n",
    "print(edges_dict)\n",
    "edges = list(edges_dict.keys())\n",
    "print(len(edges))\n"
   ]
  },
  {
   "cell_type": "code",
   "execution_count": 246,
   "metadata": {},
   "outputs": [
    {
     "name": "stdout",
     "output_type": "stream",
     "text": [
      "[['0', '2', '19', '3', '18', '4', '17', '5', '16', '1'], ['0', '2', '19', '3', '18', '4', '17', '7', '14', '9', '12', '10', '11', '1']]\n"
     ]
    }
   ],
   "source": [
    "# Transkripte\n",
    "print(transcripts)"
   ]
  },
  {
   "cell_type": "code",
   "execution_count": 247,
   "metadata": {},
   "outputs": [],
   "source": [
    "# Create new Gurobi model\n",
    "model = gp.Model(\"Transcript Expression\")"
   ]
  },
  {
   "cell_type": "code",
   "execution_count": 248,
   "metadata": {},
   "outputs": [
    {
     "name": "stdout",
     "output_type": "stream",
     "text": [
      "<built-in function vars>\n"
     ]
    }
   ],
   "source": [
    "# Add variables\n",
    "no_trans = len(transcripts)\n",
    "var1 = model.addVars(no_trans, vtype=GRB.CONTINUOUS, name=\"expression\") # Expression levels\n",
    "helper1 = model.addVars(edges, lb=-GRB.INFINITY, vtype=GRB.CONTINUOUS, name=\"x\") # Innerer Term\n",
    "\n",
    "if norm == \"L1\":\n",
    "    norm1 = model.addVars(edges, vtype=GRB.CONTINUOUS, name=\"L1_norm\") # L1 Norm\n",
    "elif norm == \"L0\":\n",
    "    norm0 = model.addVar(name=\"L0_norm\") # L0 norm\n",
    "elif norm == \"L2\":\n",
    "    norm2_1 = model.addVars(edges, vtype=GRB.CONTINUOUS, name=\"L2_norm_1\") # Absolute value of helper1\n",
    "    norm2_2 = model.addVars(edges, vtype=GRB.CONTINUOUS, name=\"L2_norm_2\") # Quadrat von norm2_1\n",
    "    norm2_3 = model.addVar(name=\"L2_norm_3\") # Summe von norm2_2\n",
    "    norm2_4 = model.addVar(name=\"L2_norm_3\") # Wurzel von norm2_3\n",
    "    \n",
    "if sparsity_constr == \"L0\":\n",
    "    sparsity_norm0 = model.addVar(name=\"Sparsity_Constraint_L0\") # Sparsity Constraint L0 Norm\n",
    "\n",
    "print(vars)"
   ]
  },
  {
   "cell_type": "code",
   "execution_count": 249,
   "metadata": {},
   "outputs": [
    {
     "name": "stdout",
     "output_type": "stream",
     "text": [
      "{(0, ('2', '19')): 1, (0, ('19', '3')): 1, (0, ('3', '18')): 1, (0, ('18', '4')): 1, (0, ('4', '17')): 1, (0, ('17', '5')): 1, (0, ('5', '16')): 1, (0, ('17', '7')): 0, (0, ('7', '14')): 0, (0, ('14', '9')): 0, (0, ('9', '12')): 0, (0, ('12', '10')): 0, (0, ('10', '11')): 0, (1, ('2', '19')): 1, (1, ('19', '3')): 1, (1, ('3', '18')): 1, (1, ('18', '4')): 1, (1, ('4', '17')): 1, (1, ('17', '7')): 1, (1, ('7', '14')): 1, (1, ('14', '9')): 1, (1, ('9', '12')): 1, (1, ('12', '10')): 1, (1, ('10', '11')): 1, (1, ('17', '5')): 0, (1, ('5', '16')): 0}\n"
     ]
    }
   ],
   "source": [
    "# Create Adjazenzmatrix (path,edge): 0/1\n",
    "adj_matrix = {}\n",
    "for i in range(0,len(transcripts)):\n",
    "    for j in range(1,len(transcripts[i])-1):\n",
    "        startnode = transcripts[i][j] \n",
    "        endnode = transcripts[i][j+1]\n",
    "        current_edge = (startnode,endnode)\n",
    "        if current_edge in edges:\n",
    "            adj_matrix[i,current_edge] = 1\n",
    "    for edge in edges:\n",
    "        if (i,edge) not in adj_matrix.keys():\n",
    "            adj_matrix[i,edge] = 0\n",
    "print(adj_matrix)"
   ]
  },
  {
   "cell_type": "code",
   "execution_count": 250,
   "metadata": {},
   "outputs": [],
   "source": [
    "# Optimization problem\n",
    "\n",
    "# Sparsity Constraints\n",
    "if sparsity_constr == \"L1\":\n",
    "    model.addConstr(var1.sum() <= factor)\n",
    "elif sparsity_constr == \"L0\":\n",
    "    model.addGenConstrNorm(sparsity_norm0, var1, 0) # Hinzufügen dieser Zeile verändert sofort die Werte der Variablen var1, warum?\n",
    "    #model.setObjective((gp.quicksum(helper2[j] for j in edges) + (factor*sparsity_norm0)), GRB.MINIMIZE)\n",
    "    model.addConstr(sparsity_norm0 <= factor)\n",
    "\n",
    "# Normen\n",
    "if norm == \"L1\":\n",
    "    for j in edges:\n",
    "        model.addConstr(helper1[j] == (edges_dict[j] - (gp.quicksum(adj_matrix[i,j] * var1[i] for i in range(len(transcripts))))))\n",
    "        model.addConstr(norm1[j] >= helper1[j])\n",
    "        model.addConstr(norm1[j] >= -helper1[j])\n",
    "    model.setObjective(gp.quicksum(norm1[j] for j in edges), GRB.MINIMIZE)\n",
    "\n",
    "elif norm == \"L0\":\n",
    "    for j in edges:\n",
    "        model.addConstr(helper1[j] == (edges_dict[j] - (gp.quicksum(adj_matrix[i,j] * var1[i] for i in range(len(transcripts))))))\n",
    "    model.addGenConstrNorm(norm0, helper1, 0)\n",
    "    model.setObjective(norm0, GRB.MINIMIZE)\n",
    "\n",
    "elif norm == \"L2\":\n",
    "    for j in edges:\n",
    "        model.addConstr(helper1[j] == (edges_dict[j] - (gp.quicksum(adj_matrix[i,j] * var1[i] for i in range(len(transcripts))))))\n",
    "        model.addConstr(norm2_1[j] >= helper1[j])\n",
    "        model.addConstr(norm2_1[j] >= -helper1[j])\n",
    "        model.addGenConstrPow(norm2_1[j], norm2_2[j], 2)\n",
    "    model.addConstr(norm2_3 == gp.quicksum(norm2_2[j] for j in edges))\n",
    "    model.addGenConstrPow(norm2_3, norm2_4, 0.5)\n",
    "    model.setObjective(norm2_4, GRB.MINIMIZE)\n",
    "    \n"
   ]
  },
  {
   "cell_type": "code",
   "execution_count": 251,
   "metadata": {},
   "outputs": [
    {
     "name": "stdout",
     "output_type": "stream",
     "text": [
      "Gurobi Optimizer version 9.5.1 build v9.5.1rc2 (linux64)\n",
      "Thread count: 4 physical cores, 8 logical processors, using up to 8 threads\n",
      "Optimize a model with 39 rows, 29 columns and 83 nonzeros\n",
      "Model fingerprint: 0xcf602694\n",
      "Model has 1 general constraint\n",
      "Variable types: 29 continuous, 0 integer (0 binary)\n",
      "Coefficient statistics:\n",
      "  Matrix range     [1e+00, 1e+00]\n",
      "  Objective range  [1e+00, 1e+00]\n",
      "  Bounds range     [0e+00, 0e+00]\n",
      "  RHS range        [3e+01, 2e+02]\n",
      "Presolve removed 16 rows and 15 columns\n",
      "Presolve time: 0.00s\n",
      "Presolved: 23 rows, 14 columns, 47 nonzeros\n",
      "Variable types: 14 continuous, 0 integer (0 binary)\n",
      "\n",
      "Root relaxation: objective 4.410000e+02, 11 iterations, 0.00 seconds (0.00 work units)\n",
      "\n",
      "    Nodes    |    Current Node    |     Objective Bounds      |     Work\n",
      " Expl Unexpl |  Obj  Depth IntInf | Incumbent    BestBd   Gap | It/Node Time\n",
      "\n",
      "*    0     0               0     441.0000000  441.00000  0.00%     -    0s\n",
      "\n",
      "Explored 1 nodes (11 simplex iterations) in 0.02 seconds (0.00 work units)\n",
      "Thread count was 8 (of 8 available processors)\n",
      "\n",
      "Solution count 1: 441 \n",
      "\n",
      "Optimal solution found (tolerance 1.00e-04)\n",
      "Best objective 4.410000000000e+02, best bound 4.410000000000e+02, gap 0.0000%\n"
     ]
    }
   ],
   "source": [
    "# Solve optimization problem\n",
    "model.optimize()"
   ]
  },
  {
   "cell_type": "code",
   "execution_count": 252,
   "metadata": {},
   "outputs": [
    {
     "name": "stdout",
     "output_type": "stream",
     "text": [
      "expression[0]\n",
      "121.0\n",
      "expression[1]\n",
      "53.0\n",
      "x[19,3]\n",
      "-0.0\n",
      "x[3,18]\n",
      "42.0\n",
      "x[18,4]\n",
      "-11.0\n",
      "x[4,17]\n",
      "53.0\n",
      "x[17,5]\n",
      "-72.0\n",
      "x[17,7]\n",
      "76.0\n",
      "x[5,16]\n",
      "-32.0\n",
      "x[7,14]\n",
      "93.0\n",
      "x[14,9]\n",
      "-25.0\n",
      "x[9,12]\n",
      "0.0\n",
      "x[12,10]\n",
      "0.0\n",
      "x[10,11]\n",
      "0.0\n",
      "x[2,19]\n",
      "37.0\n",
      "L1_norm[19,3]\n",
      "0.0\n",
      "L1_norm[3,18]\n",
      "42.0\n",
      "L1_norm[18,4]\n",
      "11.0\n",
      "L1_norm[4,17]\n",
      "53.0\n",
      "L1_norm[17,5]\n",
      "72.0\n",
      "L1_norm[17,7]\n",
      "76.0\n",
      "L1_norm[5,16]\n",
      "32.0\n",
      "L1_norm[7,14]\n",
      "93.0\n",
      "L1_norm[14,9]\n",
      "25.0\n",
      "L1_norm[9,12]\n",
      "0.0\n",
      "L1_norm[12,10]\n",
      "0.0\n",
      "L1_norm[10,11]\n",
      "0.0\n",
      "L1_norm[2,19]\n",
      "37.0\n",
      "Sparsity_Constraint_L0\n",
      "2.0\n"
     ]
    }
   ],
   "source": [
    "# Print results\n",
    "for var in model.getVars():\n",
    "    print(var.VarName)\n",
    "    print(var.X)"
   ]
  },
  {
   "cell_type": "code",
   "execution_count": 253,
   "metadata": {},
   "outputs": [
    {
     "name": "stdout",
     "output_type": "stream",
     "text": [
      "121.0\n",
      "53.0\n"
     ]
    }
   ],
   "source": [
    "for i in var1:\n",
    "    print(var1[i].X)"
   ]
  },
  {
   "cell_type": "code",
   "execution_count": 254,
   "metadata": {},
   "outputs": [
    {
     "name": "stdout",
     "output_type": "stream",
     "text": [
      "Discarded solution information\n"
     ]
    }
   ],
   "source": [
    "model.reset()"
   ]
  }
 ],
 "metadata": {
  "interpreter": {
   "hash": "7a5765b0858d2d5d4d705f249153711dd0b37d8413223ce67e67835665adb62b"
  },
  "kernelspec": {
   "display_name": "Python 3.9.12 ('project1')",
   "language": "python",
   "name": "python3"
  },
  "language_info": {
   "codemirror_mode": {
    "name": "ipython",
    "version": 3
   },
   "file_extension": ".py",
   "mimetype": "text/x-python",
   "name": "python",
   "nbconvert_exporter": "python",
   "pygments_lexer": "ipython3",
   "version": "3.9.12"
  },
  "orig_nbformat": 4
 },
 "nbformat": 4,
 "nbformat_minor": 2
}
