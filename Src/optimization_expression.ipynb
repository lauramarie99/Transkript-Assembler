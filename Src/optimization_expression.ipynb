{
 "cells": [
  {
   "cell_type": "code",
   "execution_count": 2,
   "metadata": {},
   "outputs": [],
   "source": [
    "# Import packages\n",
    "import gurobipy as gp\n",
    "from gurobipy import GRB\n",
    "import parse_graph_new\n",
    "import networkx as nx\n",
    "import path_enumeration"
   ]
  },
  {
   "cell_type": "code",
   "execution_count": 3,
   "metadata": {},
   "outputs": [
    {
     "name": "stdout",
     "output_type": "stream",
     "text": [
      "Transkripts: 2 [['0', '2', '19', '3', '18', '4', '17', '5', '16', '1'], ['0', '2', '19', '3', '18', '4', '17', '7', '14', '9', '12', '10', '11', '1']]\n"
     ]
    }
   ],
   "source": [
    "# Read file and extract all paths\n",
    "with open(\"/home/laura/Documents/Transkript_Assembly/data/human_geuvadis/test2.graph\") as f: \n",
    "    fileEndReached = False\n",
    "    f.readline()\n",
    "    while not fileEndReached:\n",
    "        f.readline()\n",
    "        Chromosome, Strand, Exons = parse_graph_new.parse_meta(f)\n",
    "        Bins = parse_graph_new.parse_bins(f)\n",
    "        PairedBins = parse_graph_new.parse_pairs(f)\n",
    "        \n",
    "        # Build graphs\n",
    "        G_full = nx.DiGraph()\n",
    "        fileEndReached, skip = parse_graph_new.parse_graph(f, G_full, Exons) # Full Graph\n",
    "        \n",
    "        if not fileEndReached and not skip:\n",
    "            G_clean = nx.DiGraph()  \n",
    "            fileEndReached, _ = parse_graph_new.parse_graph(f, G_clean, Exons) # Cleaned Graph\n",
    "            \n",
    "        # Full path enumeration of cleaned graph\n",
    "        transcripts = path_enumeration.enumeration(G_clean,[],\"0\",[\"0\"],\"1\",False)\n",
    "        print(\"Transkripts:\", len(transcripts), transcripts)\n",
    "\n",
    "f.close()"
   ]
  },
  {
   "cell_type": "code",
   "execution_count": 4,
   "metadata": {},
   "outputs": [
    {
     "name": "stdout",
     "output_type": "stream",
     "text": [
      "{'type': 'SpliceJunction', 'counts': {'0': 34, '1': 33, '2': 33, '3': 46, '4': 28, 'c': 174}, 'length': 1, 'startExon': 0, 'endExon': 1}\n",
      "('19', '3')\n",
      "{'type': 'Exon', 'counts': {'0': 40, '1': 37, '2': 41, '3': 58, '4': 40, 'c': 216}, 'length': 815, 'exon': 1}\n",
      "('3', '18')\n",
      "{'type': 'SpliceJunction', 'counts': {'0': 29, '1': 20, '2': 36, '3': 54, '4': 24, 'c': 163}, 'length': 1, 'startExon': 1, 'endExon': 2}\n",
      "('18', '4')\n",
      "{'type': 'Exon', 'counts': {'0': 52, '1': 27, '2': 47, '3': 64, '4': 37, 'c': 227}, 'length': 155, 'exon': 2}\n",
      "('4', '17')\n",
      "{'type': 'SpliceJunction', 'counts': {'0': 9, '1': 4, '2': 7, '3': 23, '4': 6, 'c': 49}, 'length': 1, 'startExon': 2, 'endExon': 3}\n",
      "('17', '5')\n",
      "{'type': 'SpliceJunction', 'counts': {'0': 24, '1': 16, '2': 30, '3': 36, '4': 23, 'c': 129}, 'length': 1, 'startExon': 2, 'endExon': 5}\n",
      "('17', '7')\n",
      "{'type': 'Exon', 'counts': {'0': 20, '1': 11, '2': 18, '3': 29, '4': 11, 'c': 89}, 'length': 478, 'exon': 3}\n",
      "('5', '16')\n",
      "{'type': 'Exon', 'counts': {'0': 33, '1': 18, '2': 34, '3': 37, '4': 24, 'c': 146}, 'length': 231, 'exon': 5}\n",
      "('7', '14')\n",
      "{'type': 'SpliceJunction', 'counts': {'0': 6, '1': 2, '2': 6, '3': 7, '4': 7, 'c': 28}, 'length': 1, 'startExon': 5, 'endExon': 7}\n",
      "('14', '9')\n",
      "{'type': 'Exon', 'counts': {'0': 17, '1': 4, '2': 13, '3': 10, '4': 9, 'c': 53}, 'length': 59, 'exon': 7}\n",
      "('9', '12')\n",
      "{'type': 'SpliceJunction', 'counts': {'0': 17, '1': 4, '2': 13, '3': 10, '4': 9, 'c': 53}, 'length': 1, 'startExon': 7, 'endExon': 8}\n",
      "('12', '10')\n",
      "{'type': 'Exon', 'counts': {'0': 17, '1': 4, '2': 13, '3': 10, '4': 9, 'c': 53}, 'length': 66, 'exon': 8}\n",
      "('10', '11')\n",
      "{'type': 'Helper', 'counts': {'0': 0, '1': 0, '2': 0, '3': 0, '4': 0, 'c': 0}, 'length': 0}\n",
      "('0', '2')\n",
      "{'type': 'Exon', 'counts': {'0': 39, '1': 39, '2': 40, '3': 56, '4': 37, 'c': 211}, 'length': 273, 'exon': 0}\n",
      "('2', '19')\n",
      "{'type': 'Helper', 'counts': {'0': 0, '1': 0, '2': 0, '3': 0, '4': 0, 'c': 0}, 'length': 0}\n",
      "('16', '1')\n",
      "{'type': 'Helper', 'counts': {'0': 0, '1': 0, '2': 0, '3': 0, '4': 0, 'c': 0}, 'length': 0}\n",
      "('11', '1')\n"
     ]
    }
   ],
   "source": [
    "for edgeKey, edgeValue in G_clean.edges.items():\n",
    "    print(edgeValue)\n",
    "    print(edgeKey)"
   ]
  },
  {
   "cell_type": "code",
   "execution_count": 7,
   "metadata": {},
   "outputs": [
    {
     "name": "stdout",
     "output_type": "stream",
     "text": [
      "{('19', '3'): 174.0, ('3', '18'): 0.2650306748466258, ('18', '4'): 163.0, ('4', '17'): 1.4645161290322581, ('17', '5'): 49.0, ('17', '7'): 129.0, ('5', '16'): 0.18619246861924685, ('7', '14'): 0.6320346320346321, ('14', '9'): 28.0, ('9', '12'): 0.8983050847457628, ('12', '10'): 53.0, ('10', '11'): 0.803030303030303, ('2', '19'): 0.7728937728937729}\n"
     ]
    }
   ],
   "source": [
    "# Create edge dictionary storing the counts for each edge\n",
    "edges_dict = {}\n",
    "for edgeKey, edgeValue in G_clean.edges.items():\n",
    "    count = edgeValue[\"counts\"][\"c\"]\n",
    "    if edgeValue[\"type\"] == \"SpliceJunction\" or edgeValue[\"type\"] == \"Exon\":\n",
    "        edges_dict[edgeKey] = count/edgeValue[\"length\"]\n",
    "print(edges_dict)\n",
    "edges = list(edges_dict.keys())\n"
   ]
  },
  {
   "cell_type": "code",
   "execution_count": 5,
   "metadata": {},
   "outputs": [
    {
     "name": "stdout",
     "output_type": "stream",
     "text": [
      "Set parameter Username\n"
     ]
    },
    {
     "ename": "GurobiError",
     "evalue": "License expired 2022-06-29",
     "output_type": "error",
     "traceback": [
      "\u001b[0;31m---------------------------------------------------------------------------\u001b[0m",
      "\u001b[0;31mGurobiError\u001b[0m                               Traceback (most recent call last)",
      "\u001b[1;32m/home/laura/Documents/Transkript_Assembly/skript/optimization_expression.ipynb Cell 5\u001b[0m in \u001b[0;36m<cell line: 2>\u001b[0;34m()\u001b[0m\n\u001b[1;32m      <a href='vscode-notebook-cell:/home/laura/Documents/Transkript_Assembly/skript/optimization_expression.ipynb#ch0000004?line=0'>1</a>\u001b[0m \u001b[39m# Create model\u001b[39;00m\n\u001b[0;32m----> <a href='vscode-notebook-cell:/home/laura/Documents/Transkript_Assembly/skript/optimization_expression.ipynb#ch0000004?line=1'>2</a>\u001b[0m model \u001b[39m=\u001b[39m gp\u001b[39m.\u001b[39;49mModel(\u001b[39m\"\u001b[39;49m\u001b[39mTranscript Expression\u001b[39;49m\u001b[39m\"\u001b[39;49m)\n",
      "File \u001b[0;32msrc/gurobipy/model.pxi:68\u001b[0m, in \u001b[0;36mgurobipy.Model.__init__\u001b[0;34m()\u001b[0m\n",
      "File \u001b[0;32msrc/gurobipy/gurobi.pxi:32\u001b[0m, in \u001b[0;36mgurobipy.gurobi._getdefaultenv\u001b[0;34m()\u001b[0m\n",
      "File \u001b[0;32msrc/gurobipy/env.pxi:62\u001b[0m, in \u001b[0;36mgurobipy.Env.__init__\u001b[0;34m()\u001b[0m\n",
      "\u001b[0;31mGurobiError\u001b[0m: License expired 2022-06-29"
     ]
    }
   ],
   "source": [
    "# Create gurobi model\n",
    "model = gp.Model(\"Transcript Expression\")"
   ]
  },
  {
   "cell_type": "code",
   "execution_count": 6,
   "metadata": {},
   "outputs": [],
   "source": [
    "# Add variables\n",
    "no_trans = range(len(transcripts))\n",
    "vars = model.addVars(no_trans, vtype=GRB.CONTINUOUS, name=\"expression_levels\", lb=0.0)\n",
    "helper1 = model.addVars(edges, lb=-GRB.INFINITY, vtype=GRB.CONTINOUS)\n",
    "helper2 = model.addVars(edges, vtype=GRB.CONTINOUS)\n",
    "\n",
    "print(vars)"
   ]
  },
  {
   "cell_type": "code",
   "execution_count": 8,
   "metadata": {},
   "outputs": [
    {
     "name": "stdout",
     "output_type": "stream",
     "text": [
      "{(0, ('2', '19')): 1, (0, ('19', '3')): 1, (0, ('3', '18')): 1, (0, ('18', '4')): 1, (0, ('4', '17')): 1, (0, ('17', '5')): 1, (0, ('5', '16')): 1, (0, ('17', '7')): 0, (0, ('7', '14')): 0, (0, ('14', '9')): 0, (0, ('9', '12')): 0, (0, ('12', '10')): 0, (0, ('10', '11')): 0, (1, ('2', '19')): 1, (1, ('19', '3')): 1, (1, ('3', '18')): 1, (1, ('18', '4')): 1, (1, ('4', '17')): 1, (1, ('17', '7')): 1, (1, ('7', '14')): 1, (1, ('14', '9')): 1, (1, ('9', '12')): 1, (1, ('12', '10')): 1, (1, ('10', '11')): 1, (1, ('17', '5')): 0, (1, ('5', '16')): 0}\n"
     ]
    }
   ],
   "source": [
    "# Create Adjazenzmatrix (path,edge): 0/1\n",
    "adj_matrix = {}\n",
    "for i in range(0,len(transcripts)):\n",
    "    for j in range(1,len(transcripts[i])-1):\n",
    "        startnode = transcripts[i][j] \n",
    "        endnode = transcripts[i][j+1]\n",
    "        current_edge = (startnode,endnode)\n",
    "        if current_edge in edges:\n",
    "            adj_matrix[i,current_edge] = 1\n",
    "    for edge in edges:\n",
    "        if (i,edge) not in adj_matrix.keys():\n",
    "            adj_matrix[i,edge] = 0\n",
    "print(adj_matrix)\n",
    "\n",
    "        "
   ]
  },
  {
   "cell_type": "code",
   "execution_count": 9,
   "metadata": {},
   "outputs": [
    {
     "name": "stdout",
     "output_type": "stream",
     "text": [
      "[['0', '2', '19', '3', '18', '4', '17', '5', '16', '1'], ['0', '2', '19', '3', '18', '4', '17', '7', '14', '9', '12', '10', '11', '1']]\n"
     ]
    }
   ],
   "source": [
    "print(transcripts)"
   ]
  },
  {
   "cell_type": "code",
   "execution_count": 16,
   "metadata": {},
   "outputs": [
    {
     "ename": "GurobiError",
     "evalue": "Unsupported type (<class 'gurobipy.GenExprAbs'>) for LinExpr addition argument",
     "output_type": "error",
     "traceback": [
      "\u001b[0;31m---------------------------------------------------------------------------\u001b[0m",
      "\u001b[0;31mGurobiError\u001b[0m                               Traceback (most recent call last)",
      "\u001b[1;32m/home/laura/Documents/Transkript_Assembly/skript/optimization_expression.ipynb Cell 10'\u001b[0m in \u001b[0;36m<cell line: 3>\u001b[0;34m()\u001b[0m\n\u001b[1;32m      <a href='vscode-notebook-cell:/home/laura/Documents/Transkript_Assembly/skript/optimization_expression.ipynb#ch0000008?line=0'>1</a>\u001b[0m \u001b[39m# Define optimization problem\u001b[39;00m\n\u001b[1;32m      <a href='vscode-notebook-cell:/home/laura/Documents/Transkript_Assembly/skript/optimization_expression.ipynb#ch0000008?line=1'>2</a>\u001b[0m \u001b[39m# How to handle abs value?\u001b[39;00m\n\u001b[0;32m----> <a href='vscode-notebook-cell:/home/laura/Documents/Transkript_Assembly/skript/optimization_expression.ipynb#ch0000008?line=2'>3</a>\u001b[0m formula \u001b[39m=\u001b[39m gp\u001b[39m.\u001b[39;49mquicksum(gp\u001b[39m.\u001b[39;49mabs_(edges_dict[edge] \u001b[39m-\u001b[39;49m (gp\u001b[39m.\u001b[39;49mquicksum(adj_matrix[i,edge] \u001b[39m*\u001b[39;49m \u001b[39mvars\u001b[39;49m[i] \u001b[39mfor\u001b[39;49;00m i \u001b[39min\u001b[39;49;00m \u001b[39mrange\u001b[39;49m(\u001b[39mlen\u001b[39;49m(transcripts))))) \u001b[39mfor\u001b[39;49;00m edge \u001b[39min\u001b[39;49;00m edges_dict\u001b[39m.\u001b[39;49mkeys())\n\u001b[1;32m      <a href='vscode-notebook-cell:/home/laura/Documents/Transkript_Assembly/skript/optimization_expression.ipynb#ch0000008?line=3'>4</a>\u001b[0m model\u001b[39m.\u001b[39msetObjective(formula, GRB\u001b[39m.\u001b[39mMINIMIZE)\n",
      "File \u001b[0;32msrc/gurobipy/gurobi.pxi:3632\u001b[0m, in \u001b[0;36mgurobipy.quicksum\u001b[0;34m()\u001b[0m\n",
      "File \u001b[0;32msrc/gurobipy/linexpr.pxi:473\u001b[0m, in \u001b[0;36mgurobipy.LinExpr.__iadd__\u001b[0;34m()\u001b[0m\n",
      "File \u001b[0;32msrc/gurobipy/linexpr.pxi:183\u001b[0m, in \u001b[0;36mgurobipy.LinExpr.add\u001b[0;34m()\u001b[0m\n",
      "\u001b[0;31mGurobiError\u001b[0m: Unsupported type (<class 'gurobipy.GenExprAbs'>) for LinExpr addition argument"
     ]
    }
   ],
   "source": [
    "# Define optimization problem\n",
    "for j in edges:\n",
    "    model.addConstr(helper1[j] == gp.quicksum(adj_matrix[i,edge] * vars[i] for i in range(len(transcripts))))\n",
    "    model.addConstr(helper2[j] == gp.abs_(helper1[j]))\n",
    "\n",
    "model.setObjective(gp.quicksum(helper2[j] for j in edges), GRB.MINIMIZE)\n",
    "\n",
    "# formula = gp.quicksum(gp.abs_(edges_dict[edge] - (gp.quicksum(adj_matrix[i,edge] * vars[i] for i in range(len(transcripts))))) for edge in edges_dict.keys())\n",
    "# model.setObjective(formula, GRB.MINIMIZE)"
   ]
  },
  {
   "cell_type": "code",
   "execution_count": 11,
   "metadata": {},
   "outputs": [
    {
     "name": "stdout",
     "output_type": "stream",
     "text": [
      "Gurobi Optimizer version 9.5.1 build v9.5.1rc2 (linux64)\n",
      "Thread count: 4 physical cores, 8 logical processors, using up to 8 threads\n",
      "Optimize a model with 0 rows, 2 columns and 0 nonzeros\n",
      "Model fingerprint: 0x7ba7d764\n",
      "Coefficient statistics:\n",
      "  Matrix range     [0e+00, 0e+00]\n",
      "  Objective range  [7e+00, 1e+01]\n",
      "  Bounds range     [0e+00, 0e+00]\n",
      "  RHS range        [0e+00, 0e+00]\n",
      "Presolve time: 0.01s\n",
      "\n",
      "Solved in 0 iterations and 0.02 seconds (0.00 work units)\n",
      "Unbounded model\n"
     ]
    }
   ],
   "source": [
    "# Solve optimization problem\n",
    "model.optimize()"
   ]
  },
  {
   "cell_type": "code",
   "execution_count": 12,
   "metadata": {},
   "outputs": [
    {
     "ename": "AttributeError",
     "evalue": "Unable to retrieve attribute 'UnbdRay'",
     "output_type": "error",
     "traceback": [
      "\u001b[0;31m---------------------------------------------------------------------------\u001b[0m",
      "\u001b[0;31mAttributeError\u001b[0m                            Traceback (most recent call last)",
      "\u001b[1;32m/home/laura/Documents/Transkript_Assembly/skript/optimization_expression.ipynb Cell 12'\u001b[0m in \u001b[0;36m<cell line: 1>\u001b[0;34m()\u001b[0m\n\u001b[1;32m      <a href='vscode-notebook-cell:/home/laura/Documents/Transkript_Assembly/skript/optimization_expression.ipynb#ch0000010?line=0'>1</a>\u001b[0m \u001b[39mfor\u001b[39;00m var \u001b[39min\u001b[39;00m model\u001b[39m.\u001b[39mgetVars():\n\u001b[0;32m----> <a href='vscode-notebook-cell:/home/laura/Documents/Transkript_Assembly/skript/optimization_expression.ipynb#ch0000010?line=1'>2</a>\u001b[0m     \u001b[39mprint\u001b[39m(var\u001b[39m.\u001b[39;49mgetAttr(\u001b[39m\"\u001b[39;49m\u001b[39mUnbdRay\u001b[39;49m\u001b[39m\"\u001b[39;49m))\n",
      "File \u001b[0;32msrc/gurobipy/var.pxi:153\u001b[0m, in \u001b[0;36mgurobipy.Var.getAttr\u001b[0;34m()\u001b[0m\n",
      "File \u001b[0;32msrc/gurobipy/attrutil.pxi:100\u001b[0m, in \u001b[0;36mgurobipy.__getattr\u001b[0;34m()\u001b[0m\n",
      "\u001b[0;31mAttributeError\u001b[0m: Unable to retrieve attribute 'UnbdRay'"
     ]
    }
   ],
   "source": [
    "# Print results\n",
    "for var in model.getVars():\n",
    "    print(var.X)"
   ]
  }
 ],
 "metadata": {
  "interpreter": {
   "hash": "7a5765b0858d2d5d4d705f249153711dd0b37d8413223ce67e67835665adb62b"
  },
  "kernelspec": {
   "display_name": "Python 3.9.12 ('project1')",
   "language": "python",
   "name": "python3"
  },
  "language_info": {
   "codemirror_mode": {
    "name": "ipython",
    "version": 3
   },
   "file_extension": ".py",
   "mimetype": "text/x-python",
   "name": "python",
   "nbconvert_exporter": "python",
   "pygments_lexer": "ipython3",
   "version": "3.9.12"
  },
  "orig_nbformat": 4
 },
 "nbformat": 4,
 "nbformat_minor": 2
}
