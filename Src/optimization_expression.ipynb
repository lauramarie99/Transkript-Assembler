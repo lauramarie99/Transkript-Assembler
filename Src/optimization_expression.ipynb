{
 "cells": [
  {
   "cell_type": "code",
   "execution_count": 1,
   "metadata": {},
   "outputs": [],
   "source": [
    "# Import packages\n",
    "import gurobipy as gp\n",
    "from gurobipy import GRB\n",
    "import parse_graph_new\n",
    "import networkx as nx\n",
    "import path_enumeration"
   ]
  },
  {
   "cell_type": "code",
   "execution_count": 2,
   "metadata": {},
   "outputs": [
    {
     "name": "stdout",
     "output_type": "stream",
     "text": [
      "Transkripts: 2 [['0', '2', '19', '3', '18', '4', '17', '5', '16', '1'], ['0', '2', '19', '3', '18', '4', '17', '7', '14', '9', '12', '10', '11', '1']]\n"
     ]
    }
   ],
   "source": [
    "# Read file and extract all paths\n",
    "with open(\"/home/laura/Documents/Transkript_Assembly/data/human_geuvadis/test2.graph\") as f: \n",
    "    fileEndReached = False\n",
    "    f.readline()\n",
    "    while not fileEndReached:\n",
    "        f.readline()\n",
    "        Chromosome, Strand, Exons = parse_graph_new.parse_meta(f)\n",
    "        Bins = parse_graph_new.parse_bins(f)\n",
    "        PairedBins = parse_graph_new.parse_pairs(f)\n",
    "        \n",
    "        # Build graphs\n",
    "        G_full = nx.DiGraph()\n",
    "        fileEndReached, skip = parse_graph_new.parse_graph(f, G_full, Exons) # Full Graph\n",
    "        \n",
    "        if not fileEndReached and not skip:\n",
    "            G_clean = nx.DiGraph()  \n",
    "            fileEndReached, _ = parse_graph_new.parse_graph(f, G_clean, Exons) # Cleaned Graph\n",
    "            \n",
    "        # Full path enumeration of cleaned graph\n",
    "        transcripts = path_enumeration.enumeration(G_clean,[],\"0\",[\"0\"],\"1\",False)\n",
    "        print(\"Transkripts:\", len(transcripts), transcripts)\n",
    "\n",
    "f.close()"
   ]
  },
  {
   "cell_type": "code",
   "execution_count": 3,
   "metadata": {},
   "outputs": [
    {
     "name": "stdout",
     "output_type": "stream",
     "text": [
      "{'type': 'SpliceJunction', 'counts': {'0': 34, '1': 33, '2': 33, '3': 46, '4': 28, 'c': 174}, 'length': 1, 'startExon': 0, 'endExon': 1}\n",
      "('19', '3')\n",
      "{'type': 'Exon', 'counts': {'0': 40, '1': 37, '2': 41, '3': 58, '4': 40, 'c': 216}, 'length': 815, 'exon': 1}\n",
      "('3', '18')\n",
      "{'type': 'SpliceJunction', 'counts': {'0': 29, '1': 20, '2': 36, '3': 54, '4': 24, 'c': 163}, 'length': 1, 'startExon': 1, 'endExon': 2}\n",
      "('18', '4')\n",
      "{'type': 'Exon', 'counts': {'0': 52, '1': 27, '2': 47, '3': 64, '4': 37, 'c': 227}, 'length': 155, 'exon': 2}\n",
      "('4', '17')\n",
      "{'type': 'SpliceJunction', 'counts': {'0': 9, '1': 4, '2': 7, '3': 23, '4': 6, 'c': 49}, 'length': 1, 'startExon': 2, 'endExon': 3}\n",
      "('17', '5')\n",
      "{'type': 'SpliceJunction', 'counts': {'0': 24, '1': 16, '2': 30, '3': 36, '4': 23, 'c': 129}, 'length': 1, 'startExon': 2, 'endExon': 5}\n",
      "('17', '7')\n",
      "{'type': 'Exon', 'counts': {'0': 20, '1': 11, '2': 18, '3': 29, '4': 11, 'c': 89}, 'length': 478, 'exon': 3}\n",
      "('5', '16')\n",
      "{'type': 'Exon', 'counts': {'0': 33, '1': 18, '2': 34, '3': 37, '4': 24, 'c': 146}, 'length': 231, 'exon': 5}\n",
      "('7', '14')\n",
      "{'type': 'SpliceJunction', 'counts': {'0': 6, '1': 2, '2': 6, '3': 7, '4': 7, 'c': 28}, 'length': 1, 'startExon': 5, 'endExon': 7}\n",
      "('14', '9')\n",
      "{'type': 'Exon', 'counts': {'0': 17, '1': 4, '2': 13, '3': 10, '4': 9, 'c': 53}, 'length': 59, 'exon': 7}\n",
      "('9', '12')\n",
      "{'type': 'SpliceJunction', 'counts': {'0': 17, '1': 4, '2': 13, '3': 10, '4': 9, 'c': 53}, 'length': 1, 'startExon': 7, 'endExon': 8}\n",
      "('12', '10')\n",
      "{'type': 'Exon', 'counts': {'0': 17, '1': 4, '2': 13, '3': 10, '4': 9, 'c': 53}, 'length': 66, 'exon': 8}\n",
      "('10', '11')\n",
      "{'type': 'Helper', 'counts': {'0': 0, '1': 0, '2': 0, '3': 0, '4': 0, 'c': 0}, 'length': 0}\n",
      "('0', '2')\n",
      "{'type': 'Exon', 'counts': {'0': 39, '1': 39, '2': 40, '3': 56, '4': 37, 'c': 211}, 'length': 273, 'exon': 0}\n",
      "('2', '19')\n",
      "{'type': 'Helper', 'counts': {'0': 0, '1': 0, '2': 0, '3': 0, '4': 0, 'c': 0}, 'length': 0}\n",
      "('16', '1')\n",
      "{'type': 'Helper', 'counts': {'0': 0, '1': 0, '2': 0, '3': 0, '4': 0, 'c': 0}, 'length': 0}\n",
      "('11', '1')\n"
     ]
    }
   ],
   "source": [
    "for edgeKey, edgeValue in G_clean.edges.items():\n",
    "    print(edgeValue)\n",
    "    print(edgeKey)"
   ]
  },
  {
   "cell_type": "code",
   "execution_count": 4,
   "metadata": {},
   "outputs": [
    {
     "name": "stdout",
     "output_type": "stream",
     "text": [
      "{('19', '3'): 174, ('3', '18'): 216, ('18', '4'): 163, ('4', '17'): 227, ('17', '5'): 49, ('17', '7'): 129, ('5', '16'): 89, ('7', '14'): 146, ('14', '9'): 28, ('9', '12'): 53, ('12', '10'): 53, ('10', '11'): 53, ('2', '19'): 211}\n",
      "13\n"
     ]
    }
   ],
   "source": [
    "# Create edge dictionary storing the counts for each edge\n",
    "edges_dict = {}\n",
    "for edgeKey, edgeValue in G_clean.edges.items():\n",
    "    count = edgeValue[\"counts\"][\"c\"]\n",
    "    if edgeValue[\"type\"] == \"SpliceJunction\" or edgeValue[\"type\"] == \"Exon\":\n",
    "        edges_dict[edgeKey] = count\n",
    "print(edges_dict)\n",
    "edges = list(edges_dict.keys())\n",
    "print(len(edges))\n"
   ]
  },
  {
   "cell_type": "code",
   "execution_count": 5,
   "metadata": {},
   "outputs": [
    {
     "name": "stdout",
     "output_type": "stream",
     "text": [
      "[['0', '2', '19', '3', '18', '4', '17', '5', '16', '1'], ['0', '2', '19', '3', '18', '4', '17', '7', '14', '9', '12', '10', '11', '1']]\n"
     ]
    }
   ],
   "source": [
    "print(transcripts)"
   ]
  },
  {
   "cell_type": "code",
   "execution_count": 6,
   "metadata": {},
   "outputs": [
    {
     "name": "stdout",
     "output_type": "stream",
     "text": [
      "Set parameter Username\n",
      "Academic license - for non-commercial use only - expires 2023-07-16\n"
     ]
    }
   ],
   "source": [
    "# Create gurobi model\n",
    "model = gp.Model(\"Transcript Expression\")"
   ]
  },
  {
   "cell_type": "code",
   "execution_count": 7,
   "metadata": {},
   "outputs": [
    {
     "name": "stdout",
     "output_type": "stream",
     "text": [
      "{0: <gurobi.Var expression[0]>, 1: <gurobi.Var expression[1]>}\n"
     ]
    }
   ],
   "source": [
    "# Add variables\n",
    "no_trans = len(transcripts)\n",
    "vars = model.addVars(no_trans, vtype=GRB.CONTINUOUS, name=\"expression\")\n",
    "helper1 = model.addVars(edges, lb=-GRB.INFINITY, vtype=GRB.CONTINUOUS, name=\"x\")\n",
    "helper2 = model.addVars(edges, vtype=GRB.CONTINUOUS, name=\"y\")\n",
    "model.update()\n",
    "print(vars)"
   ]
  },
  {
   "cell_type": "code",
   "execution_count": 8,
   "metadata": {},
   "outputs": [
    {
     "name": "stdout",
     "output_type": "stream",
     "text": [
      "{(0, ('2', '19')): 1, (0, ('19', '3')): 1, (0, ('3', '18')): 1, (0, ('18', '4')): 1, (0, ('4', '17')): 1, (0, ('17', '5')): 1, (0, ('5', '16')): 1, (0, ('17', '7')): 0, (0, ('7', '14')): 0, (0, ('14', '9')): 0, (0, ('9', '12')): 0, (0, ('12', '10')): 0, (0, ('10', '11')): 0, (1, ('2', '19')): 1, (1, ('19', '3')): 1, (1, ('3', '18')): 1, (1, ('18', '4')): 1, (1, ('4', '17')): 1, (1, ('17', '7')): 1, (1, ('7', '14')): 1, (1, ('14', '9')): 1, (1, ('9', '12')): 1, (1, ('12', '10')): 1, (1, ('10', '11')): 1, (1, ('17', '5')): 0, (1, ('5', '16')): 0}\n"
     ]
    }
   ],
   "source": [
    "# Create Adjazenzmatrix (path,edge): 0/1\n",
    "adj_matrix = {}\n",
    "for i in range(0,len(transcripts)):\n",
    "    for j in range(1,len(transcripts[i])-1):\n",
    "        startnode = transcripts[i][j] \n",
    "        endnode = transcripts[i][j+1]\n",
    "        current_edge = (startnode,endnode)\n",
    "        if current_edge in edges:\n",
    "            adj_matrix[i,current_edge] = 1\n",
    "    for edge in edges:\n",
    "        if (i,edge) not in adj_matrix.keys():\n",
    "            adj_matrix[i,edge] = 0\n",
    "print(adj_matrix)\n",
    "\n",
    "        "
   ]
  },
  {
   "cell_type": "code",
   "execution_count": 9,
   "metadata": {},
   "outputs": [],
   "source": [
    "# Define optimization problem\n",
    "for j in edges:\n",
    "    model.addConstr(helper1[j] == (edges_dict[j] - (gp.quicksum(adj_matrix[i,j] * vars[i] for i in range(len(transcripts))))))\n",
    "    model.addConstr(helper2[j] >= helper1[j])\n",
    "    model.addConstr(helper2[j] >= -helper1[j])\n",
    "\n",
    "model.setObjective(gp.quicksum(helper2[j] for j in edges), GRB.MINIMIZE)"
   ]
  },
  {
   "cell_type": "code",
   "execution_count": 10,
   "metadata": {},
   "outputs": [
    {
     "name": "stdout",
     "output_type": "stream",
     "text": [
      "Gurobi Optimizer version 9.5.1 build v9.5.1rc2 (linux64)\n",
      "Thread count: 4 physical cores, 8 logical processors, using up to 8 threads\n",
      "Optimize a model with 39 rows, 28 columns and 83 nonzeros\n",
      "Model fingerprint: 0x23756bc8\n",
      "Coefficient statistics:\n",
      "  Matrix range     [1e+00, 1e+00]\n",
      "  Objective range  [1e+00, 1e+00]\n",
      "  Bounds range     [0e+00, 0e+00]\n",
      "  RHS range        [3e+01, 2e+02]\n",
      "Presolve removed 13 rows and 13 columns\n",
      "Presolve time: 0.01s\n",
      "Presolved: 26 rows, 15 columns, 62 nonzeros\n",
      "\n",
      "Iteration    Objective       Primal Inf.    Dual Inf.      Time\n",
      "       0    0.0000000e+00   1.591000e+03   0.000000e+00      0s\n",
      "      13    4.4100000e+02   0.000000e+00   0.000000e+00      0s\n",
      "\n",
      "Solved in 13 iterations and 0.02 seconds (0.00 work units)\n",
      "Optimal objective  4.410000000e+02\n"
     ]
    }
   ],
   "source": [
    "# Solve optimization problem\n",
    "model.optimize()"
   ]
  },
  {
   "cell_type": "code",
   "execution_count": 11,
   "metadata": {},
   "outputs": [
    {
     "name": "stdout",
     "output_type": "stream",
     "text": [
      "expression[0]\n",
      "89.0\n",
      "expression[1]\n",
      "85.0\n",
      "x[19,3]\n",
      "0.0\n",
      "x[3,18]\n",
      "42.0\n",
      "x[18,4]\n",
      "-11.0\n",
      "x[4,17]\n",
      "53.0\n",
      "x[17,5]\n",
      "-40.0\n",
      "x[17,7]\n",
      "44.0\n",
      "x[5,16]\n",
      "0.0\n",
      "x[7,14]\n",
      "61.0\n",
      "x[14,9]\n",
      "-57.0\n",
      "x[9,12]\n",
      "-32.0\n",
      "x[12,10]\n",
      "-32.0\n",
      "x[10,11]\n",
      "-32.0\n",
      "x[2,19]\n",
      "37.0\n",
      "y[19,3]\n",
      "0.0\n",
      "y[3,18]\n",
      "42.0\n",
      "y[18,4]\n",
      "11.0\n",
      "y[4,17]\n",
      "53.0\n",
      "y[17,5]\n",
      "40.0\n",
      "y[17,7]\n",
      "44.0\n",
      "y[5,16]\n",
      "0.0\n",
      "y[7,14]\n",
      "61.0\n",
      "y[14,9]\n",
      "57.0\n",
      "y[9,12]\n",
      "32.0\n",
      "y[12,10]\n",
      "32.0\n",
      "y[10,11]\n",
      "32.0\n",
      "y[2,19]\n",
      "37.0\n"
     ]
    }
   ],
   "source": [
    "# Print results\n",
    "for var in model.getVars():\n",
    "    print(var.VarName)\n",
    "    print(var.X)"
   ]
  },
  {
   "cell_type": "code",
   "execution_count": 12,
   "metadata": {},
   "outputs": [
    {
     "name": "stdout",
     "output_type": "stream",
     "text": [
      "89.0\n",
      "85.0\n"
     ]
    }
   ],
   "source": [
    "for i in vars:\n",
    "    print(vars[i].X)\n"
   ]
  }
 ],
 "metadata": {
  "interpreter": {
   "hash": "7a5765b0858d2d5d4d705f249153711dd0b37d8413223ce67e67835665adb62b"
  },
  "kernelspec": {
   "display_name": "Python 3.9.12 ('project1')",
   "language": "python",
   "name": "python3"
  },
  "language_info": {
   "codemirror_mode": {
    "name": "ipython",
    "version": 3
   },
   "file_extension": ".py",
   "mimetype": "text/x-python",
   "name": "python",
   "nbconvert_exporter": "python",
   "pygments_lexer": "ipython3",
   "version": "3.9.12"
  },
  "orig_nbformat": 4
 },
 "nbformat": 4,
 "nbformat_minor": 2
}
