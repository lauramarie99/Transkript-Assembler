{
 "cells": [
  {
   "cell_type": "code",
   "execution_count": null,
   "metadata": {},
   "outputs": [],
   "source": [
    "import networkx as nx"
   ]
  },
  {
   "cell_type": "markdown",
   "metadata": {},
   "source": [
    "# Creating an empty graph"
   ]
  },
  {
   "cell_type": "code",
   "execution_count": null,
   "metadata": {},
   "outputs": [],
   "source": [
    "Graph1 = nx.Graph() # Ungerichteter Graph\n",
    "Graph2 = nx.Graph()\n",
    "print(Graph1.number_of_edges())\n",
    "print(Graph1.number_of_nodes()) # Es sind noch keine Knoten und Kanten enthalten"
   ]
  },
  {
   "cell_type": "markdown",
   "metadata": {},
   "source": [
    "# Add nodes"
   ]
  },
  {
   "cell_type": "code",
   "execution_count": null,
   "metadata": {},
   "outputs": [],
   "source": [
    "# Knoten können zum Beispiel Strings oder Zahlen sein\n",
    "Graph1.add_node(\"A\") # Hinzufügen eines einzelnen Knotens\n",
    "Graph1.add_nodes_from([\"B\",\"C\",\"D\"]) # Hinzufügen mehrerer Knoten aus Liste\n",
    "\n",
    "print(list(Graph1.nodes))\n",
    "print(list(Graph1.edges)) # Es sind noch keine Kanten vorhanden"
   ]
  },
  {
   "cell_type": "markdown",
   "metadata": {},
   "source": [
    "# Add edges"
   ]
  },
  {
   "cell_type": "code",
   "execution_count": null,
   "metadata": {},
   "outputs": [],
   "source": [
    "print(Graph1.number_of_edges()) # Es sind noch keine Kanten vorhanden\n",
    "Graph1.add_edge(\"A\",\"B\")\n",
    "Graph1.add_edges_from([(\"A\",\"C\"),(\"B\",\"D\")])\n",
    "\n",
    "Graph2.add_edge(1,2, weight=1) # Gewichtete Kante\n",
    "Graph2.add_edge(1,4,weight=6)\n",
    "Graph2.add_edge(3,4,weigh=2)\n",
    "Graph2.add_edge(2,3, weight=2, capacity=10, length=2) # Füge weitere Merkmale hinzu\n",
    "\n",
    "print(\"Graph1 besteht aus den folgenden Knoten und Kanten: \", list(Graph1.nodes), list(Graph1.edges))\n",
    "print(\"Graph2 besteht aus den folgenden Knoten und Kanten: \", list(Graph2.nodes), list(Graph2.edges)) # Knoten wurden automatisch bei Kantenzuweisung erstellt"
   ]
  },
  {
   "cell_type": "markdown",
   "metadata": {},
   "source": [
    "# Properties"
   ]
  },
  {
   "cell_type": "code",
   "execution_count": null,
   "metadata": {},
   "outputs": [],
   "source": [
    "print(nx.shortest_path(Graph2,1,4)) # Berechnung des kürzesten Pfades von 1 nach 4\n",
    "print(nx.shortest_path(Graph2,1,4, weight=\"weight\")) # Berechnung des Pfades von 1 nach 4 mit dem geringsten Gesamtgewicht"
   ]
  },
  {
   "cell_type": "code",
   "execution_count": null,
   "metadata": {},
   "outputs": [],
   "source": [
    "print(Graph1.degree[\"A\"]) # Berechnung der Anzahl eingehender/ausgehender Kanten für Knoten A\n",
    "print(dict(Graph1.degree([\"A\",\"B\",\"C\"]))) "
   ]
  },
  {
   "cell_type": "code",
   "execution_count": null,
   "metadata": {},
   "outputs": [],
   "source": [
    "print(list(Graph2.adj[1])) # Welche Nachbarn hat Knoten 1?"
   ]
  },
  {
   "cell_type": "code",
   "execution_count": null,
   "metadata": {},
   "outputs": [],
   "source": [
    "print(list(Graph2.edges.data())) # Zeige alle Kanten und zugehörige Attribute"
   ]
  },
  {
   "cell_type": "markdown",
   "metadata": {},
   "source": [
    "# Remove nodes and edges"
   ]
  },
  {
   "cell_type": "code",
   "execution_count": null,
   "metadata": {},
   "outputs": [],
   "source": [
    "Graph1.remove_edge(\"B\",\"D\")\n",
    "Graph2.remove_edges_from([(3,4),(1,4)])\n",
    "Graph2.remove_node(4)\n",
    "\n",
    "print(\"Graph1 besteht aus den folgenden Knoten und Kanten: \", list(Graph1.nodes), list(Graph1.edges))\n",
    "print(\"Graph2 besteht aus den folgenden Knoten und Kanten: \", list(Graph2.nodes), list(Graph2.edges))"
   ]
  },
  {
   "cell_type": "markdown",
   "metadata": {},
   "source": [
    "# Using graph contructors"
   ]
  },
  {
   "cell_type": "code",
   "execution_count": null,
   "metadata": {},
   "outputs": [],
   "source": [
    "edgelist = [(0, 1), (1, 2), (2, 3)]\n",
    "Graph3 = nx.Graph(edgelist)  # Übergebe dem Konstruktor eine Kantenliste\n",
    "print(list(Graph3.edges()))\n",
    "\n",
    "adjacency_dict = {0: (1, 2), 1: (0, 2), 2: (0, 1)}\n",
    "Graph4 = nx.Graph(adjacency_dict)  # Erstelle einen Graph durch Zuordnung der Knoten zu Nachbarknoten\n",
    "print(list(Graph4.edges()))"
   ]
  },
  {
   "cell_type": "markdown",
   "metadata": {},
   "source": [
    "# Directed graphs"
   ]
  },
  {
   "cell_type": "code",
   "execution_count": null,
   "metadata": {},
   "outputs": [],
   "source": [
    "print(Graph1.is_directed()) # Graph1 und Graph2 sind ungerichtete Graphen\n",
    "print(Graph2.is_directed())"
   ]
  },
  {
   "cell_type": "code",
   "execution_count": null,
   "metadata": {},
   "outputs": [],
   "source": [
    "DG1 = nx.DiGraph() # DG1 ist ein gerichteter Graph\n",
    "DG1.add_edge(1,2, weight=2, color=\"yellow\")\n",
    "DG1.add_edge(2,3, weight=2, color=\"blue\")\n",
    "DG1.add_edge(1,4, weight=2, color=\"red\")\n",
    "DG1.add_edge(3,4, weight=2, color=\"green\")\n",
    "print(\"DG1 hat\", DG1.number_of_nodes(), \"Knoten und\", DG1.number_of_edges(), \"Kanten\")"
   ]
  },
  {
   "cell_type": "code",
   "execution_count": null,
   "metadata": {},
   "outputs": [],
   "source": [
    "print(list(DG1[2])) # Gleich wie DG1.adj[2], alle nachfolgenden Knoten\n",
    "print(list(DG1[1]))"
   ]
  },
  {
   "cell_type": "code",
   "execution_count": null,
   "metadata": {},
   "outputs": [],
   "source": [
    "print(list(DG1.edges.data()))"
   ]
  },
  {
   "cell_type": "code",
   "execution_count": null,
   "metadata": {},
   "outputs": [],
   "source": [
    "# neighbors is equivalent to successors, degree reports the sum of in_degree and out_degree\n",
    "print(DG1.degree[2])\n",
    "print(DG1.out_degree[2])\n",
    "print(DG1.in_degree[2])\n",
    "\n",
    "print(list(DG1.adj[2]))"
   ]
  },
  {
   "cell_type": "markdown",
   "metadata": {},
   "source": [
    "# Access and change attributes"
   ]
  },
  {
   "cell_type": "code",
   "execution_count": null,
   "metadata": {},
   "outputs": [],
   "source": [
    "print(DG1[2][3])\n",
    "print(DG1.edges[2,3]) # Zwei Möglichkeiten um auf die Kante (2,3) zuzugreifen"
   ]
  },
  {
   "cell_type": "code",
   "execution_count": null,
   "metadata": {},
   "outputs": [],
   "source": [
    "DG1.edges[1, 4][\"color\"] = \"yellow\"\n",
    "DG1.edges[1,2][\"weight\"] = 3\n",
    "print(DG1.edges.data())"
   ]
  },
  {
   "cell_type": "code",
   "execution_count": null,
   "metadata": {},
   "outputs": [],
   "source": [
    "DG1[2][3][\"color\"] = \"yellow\"\n",
    "print(DG1.edges.data())"
   ]
  },
  {
   "cell_type": "markdown",
   "metadata": {},
   "source": [
    "# Node attributes"
   ]
  },
  {
   "cell_type": "code",
   "execution_count": null,
   "metadata": {},
   "outputs": [],
   "source": [
    "# Auch Knoten können Atrtribute haben\n",
    "DG1.nodes[1][\"color\"] = \"green\"\n",
    "print(DG1.nodes[1])"
   ]
  },
  {
   "cell_type": "markdown",
   "metadata": {},
   "source": [
    "# Multigraphs"
   ]
  },
  {
   "cell_type": "code",
   "execution_count": null,
   "metadata": {},
   "outputs": [],
   "source": [
    "# Multigraphen können mehr als eine Kante zwischen zwei Knoten haben\n",
    "MG = nx.MultiGraph()\n",
    "MG.add_weighted_edges_from([(1, 2, 0.5), (1, 2, 0.75), (2, 3, 0.5)])\n",
    "\n",
    "print(dict(MG.degree()))"
   ]
  },
  {
   "cell_type": "markdown",
   "metadata": {},
   "source": [
    "# Drawing graphs"
   ]
  },
  {
   "cell_type": "code",
   "execution_count": null,
   "metadata": {},
   "outputs": [],
   "source": [
    "import matplotlib as mpl\n",
    "import matplotlib.pyplot as plt\n"
   ]
  },
  {
   "cell_type": "code",
   "execution_count": null,
   "metadata": {},
   "outputs": [],
   "source": [
    "Graph1.add_edges_from([(\"C\",\"D\"),(\"A\",\"E\"),(\"D\",\"E\")])"
   ]
  },
  {
   "cell_type": "code",
   "execution_count": null,
   "metadata": {},
   "outputs": [],
   "source": [
    "nx.draw(Graph1, with_labels=True, font_weight='bold')"
   ]
  },
  {
   "cell_type": "code",
   "execution_count": null,
   "metadata": {},
   "outputs": [],
   "source": [
    "nx.draw_networkx(DG1, with_labels=True, arrowsize=10, node_color=\"green\")"
   ]
  }
 ],
 "metadata": {
  "interpreter": {
   "hash": "6dd229dc9a5711875887dba06c5c7d58016bacacc58ff08ef2353169d0a097b0"
  },
  "kernelspec": {
   "display_name": "Python 3.8.3 32-bit",
   "language": "python",
   "name": "python3"
  },
  "language_info": {
   "codemirror_mode": {
    "name": "ipython",
    "version": 3
   },
   "file_extension": ".py",
   "mimetype": "text/x-python",
   "name": "python",
   "nbconvert_exporter": "python",
   "pygments_lexer": "ipython3",
   "version": "3.8.3"
  },
  "orig_nbformat": 4
 },
 "nbformat": 4,
 "nbformat_minor": 2
}
